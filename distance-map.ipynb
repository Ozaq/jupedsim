{
 "cells": [
  {
   "cell_type": "code",
   "execution_count": 2,
   "metadata": {},
   "outputs": [
    {
     "data": {
      "text/plain": [
       "<contextlib.ExitStack at 0x7f41ed468800>"
      ]
     },
     "execution_count": 2,
     "metadata": {},
     "output_type": "execute_result"
    }
   ],
   "source": [
    "import numpy as np\n",
    "import pathlib\n",
    "import matplotlib.pyplot as plt\n",
    "from matplotlib.colors import ListedColormap\n",
    "\n",
    "plt.ion()"
   ]
  },
  {
   "cell_type": "code",
   "execution_count": 3,
   "metadata": {},
   "outputs": [],
   "source": [
    "def load_data(file):\n",
    "    data = np.loadtxt(file, delimiter=\",\")\n",
    "\n",
    "    exit_data = data.copy()\n",
    "    exit_data[exit_data != 0] = np.nan\n",
    "\n",
    "    blocked_data = data.copy()\n",
    "    blocked_data[blocked_data >= 0] = np.nan\n",
    "\n",
    "    data[data < 0] = np.nan\n",
    "    return data, exit_data, blocked_data"
   ]
  },
  {
   "cell_type": "code",
   "execution_count": 4,
   "metadata": {},
   "outputs": [],
   "source": [
    "def plot_distance_map(data, exit_data, blocked_data):\n",
    "    blocked_cmap = ListedColormap([(0, 0, 0, 1)])\n",
    "    blocked_cmap.set_bad(color=\"none\")\n",
    "\n",
    "    exit_cmap = ListedColormap([(1, 1, 1, 1)])\n",
    "    exit_cmap.set_bad(color=\"none\")\n",
    "\n",
    "    plt.figure(figsize=(10, 10))\n",
    "    # Change figure size as needed\n",
    "    plt.imshow(data, cmap=\"jet\", interpolation=\"none\")\n",
    "    plt.colorbar()  # Adds a color bar to the side\n",
    "\n",
    "    plt.imshow(exit_data, cmap=exit_cmap, interpolation=\"none\")\n",
    "    plt.imshow(blocked_data, cmap=blocked_cmap, interpolation=\"none\")\n",
    "\n",
    "    plt.show()"
   ]
  },
  {
   "cell_type": "code",
   "execution_count": 5,
   "metadata": {},
   "outputs": [
    {
     "name": "stdout",
     "output_type": "stream",
     "text": [
      "Using matplotlib backend: <object object at 0x7f4200f5b400>\n"
     ]
    }
   ],
   "source": [
    "%matplotlib\n",
    "\n",
    "folder = pathlib.Path(\"/home/tobias/dev/simulex/Simulex/example models/\")\n",
    "file = folder / \"dump.csv\"\n",
    "\n",
    "data_simulex, exit_data_simulex, blocked_data_simulex = load_data(file)\n",
    "plot_distance_map(data_simulex, exit_data_simulex, blocked_data_simulex)"
   ]
  },
  {
   "cell_type": "code",
   "execution_count": 6,
   "metadata": {},
   "outputs": [
    {
     "data": {
      "text/plain": [
       "(473, 526)"
      ]
     },
     "execution_count": 6,
     "metadata": {},
     "output_type": "execute_result"
    }
   ],
   "source": [
    "data_simulex.shape"
   ]
  },
  {
   "cell_type": "code",
   "execution_count": 71,
   "metadata": {},
   "outputs": [
    {
     "data": {
      "text/plain": [
       "7477.0"
      ]
     },
     "execution_count": 71,
     "metadata": {},
     "output_type": "execute_result"
    }
   ],
   "source": [
    "np.nanmax(data_simulex)"
   ]
  },
  {
   "cell_type": "markdown",
   "metadata": {},
   "source": [
    "# Debugging Jette"
   ]
  },
  {
   "cell_type": "code",
   "execution_count": 37,
   "metadata": {},
   "outputs": [
    {
     "name": "stdout",
     "output_type": "stream",
     "text": [
      "Using matplotlib backend: QtAgg\n",
      "/home/tobias/dev/jupedsim/simulations/routing-issue/dump_06.csv\n"
     ]
    }
   ],
   "source": [
    "%matplotlib\n",
    "\n",
    "folder = pathlib.Path(\"/home/tobias/dev/jupedsim/simulations/routing-issue/\")\n",
    "\n",
    "for file in folder.glob(\"*06.csv\"):\n",
    "    print(file)\n",
    "    data, exit_data, blocked_data = load_data(file)\n",
    "    plot_distance_map(data, exit_data, blocked_data)"
   ]
  },
  {
   "cell_type": "code",
   "execution_count": 34,
   "metadata": {},
   "outputs": [
    {
     "name": "stderr",
     "output_type": "stream",
     "text": [
      "/tmp/ipykernel_349117/3695858448.py:1: RuntimeWarning: Mean of empty slice\n",
      "  np.nanmean(data)\n"
     ]
    },
    {
     "data": {
      "text/plain": [
       "nan"
      ]
     },
     "execution_count": 34,
     "metadata": {},
     "output_type": "execute_result"
    }
   ],
   "source": []
  },
  {
   "cell_type": "code",
   "execution_count": 36,
   "metadata": {},
   "outputs": [
    {
     "name": "stdout",
     "output_type": "stream",
     "text": [
      "Using matplotlib backend: QtAgg\n"
     ]
    }
   ],
   "source": [
    "%matplotlib\n",
    "\n",
    "plt.imshow(data - data_simulex, cmap=\"jet\", interpolation=\"none\", origin=\"lower\")\n",
    "plt.colorbar()  # Adds a color bar to the side\n",
    "plt.show()"
   ]
  },
  {
   "cell_type": "code",
   "execution_count": 32,
   "metadata": {},
   "outputs": [
    {
     "name": "stderr",
     "output_type": "stream",
     "text": [
      "/tmp/ipykernel_349117/3855569825.py:1: RuntimeWarning: All-NaN slice encountered\n",
      "  np.nanmax(data - data_simulex)\n"
     ]
    },
    {
     "data": {
      "text/plain": [
       "nan"
      ]
     },
     "execution_count": 32,
     "metadata": {},
     "output_type": "execute_result"
    }
   ],
   "source": [
    "np.nanmax(data - data_simulex)"
   ]
  },
  {
   "cell_type": "code",
   "execution_count": 19,
   "metadata": {},
   "outputs": [
    {
     "data": {
      "image/png": "[encoded data removed]",
      "text/plain": [
       "<Figure size 1000x1000 with 2 Axes>"
      ]
     },
     "metadata": {},
     "output_type": "display_data"
    }
   ],
   "source": [
    "window = 10\n",
    "center = (243, 213)\n",
    "\n",
    "plot_distance_map(\n",
    "    data[\n",
    "        center[0] - window : center[0] + window,\n",
    "        center[1] - window : center[1] + window,\n",
    "    ],\n",
    "    exit_data[\n",
    "        center[0] - window : center[0] + window,\n",
    "        center[1] - window : center[1] + window,\n",
    "    ],\n",
    "    blocked_data[\n",
    "        center[0] - window : center[0] + window,\n",
    "        center[1] - window : center[1] + window,\n",
    "    ],\n",
    ")\n",
    "# plot_distance_map(\n",
    "\n",
    "# )"
   ]
  },
  {
   "cell_type": "code",
   "execution_count": 18,
   "metadata": {},
   "outputs": [
    {
     "data": {
      "text/plain": [
       "nan"
      ]
     },
     "execution_count": 18,
     "metadata": {},
     "output_type": "execute_result"
    }
   ],
   "source": [
    "loaded_data[1][243, 213]"
   ]
  },
  {
   "cell_type": "code",
   "execution_count": null,
   "metadata": {},
   "outputs": [],
   "source": [
    "print()"
   ]
  },
  {
   "cell_type": "code",
   "execution_count": 17,
   "metadata": {},
   "outputs": [
    {
     "name": "stdout",
     "output_type": "stream",
     "text": [
      "   x      x      x      x      x      x      x    420    408    402    400    402    395      x      x      x      x      x      x      x      x   \n",
      "   x      x      x      x      x      x      x    381    368    362    360    362    371      x      x      x      x      x      x      x      x   \n",
      "   x      x      x      x      x      x      x    342    329    322    320    323    335      x      x      x      x      x      x      x      x   \n",
      "   x      x      x      x      x      x      x    303    290    282    280    283    308      x      x      x      x      x      x      x      x   \n",
      "   x      x      x      x      x      x      x    265    250    243    240    244      x      x      x      x      x      x      x      x      x   \n",
      "   x      x      x      x      x      x      x    228    212    203    200    205      x      x      x      x      x      x      x      x      x   \n",
      " 391    357    323    293    268      x    211    191    173    163    160    167      x      x      x      x      x      x      x      x      x   \n",
      " 373    338    303    268    238    209    181    157    137    124    120    131      x      x      x      x      x      x      x      x      x   \n",
      " 357    320    285    250    214    184    153    126    103     87     80    105      x      x      x      x      x      x      x      x      x   \n",
      " 344    307    270    233    198    162    130    100     73     50     40      x      x      x      x      x      x      x      x      x      x   \n",
      " 335    297    258    221    184    148    112     80     49     22     0       x      x      x      x      x      x      x      x      x      x   \n",
      " 329    290    252    213    176    139    102     67     37     11     0       x      x      x      x      x      x      x      x      x      x   \n",
      " 328    288    249    211    172    136     98     64     33     10     0       x      x      x      x      x      x      x      x      x      x   \n",
      " 329    291    252    213    176    139    102     68     37     11     0       x      x      x      x      x      x      x      x      x      x   \n",
      " 332    294    257    219    182    147    112     79     49     22     0     -17    -30    -38    -43    -45    -37      x      x      x      x   \n",
      " 338    300    263    227    191    156    124     93     64     39     17      x    -14    -25    -34    -40    -45    -49    -51    -53    -53   \n",
      " 343    307    271    235    202    168    136    107     79     55     34     16     0     -11    -21    -29    -34    -40    -44    -47    -50   \n",
      " 351    315    281    246    212    181    150    121     96     71     50     32     17     3      -7    -16    -24    -29    -34    -39    -42   \n",
      " 360    325    290    258    225    194    165    137    111     88     67     48     33     19     7       -    -11    -18    -24    -29    -34   \n",
      " 369    336    302    269    238    208    179    153    127    104     84     65     48     35     22     11     2      -6    -13    -18    -24   \n",
      " 380    346    314    282    251    223    194    168    144    121    100     82     65     50     37     26     15     7       x     -8    -13   \n",
      "\n",
      "\n"
     ]
    }
   ],
   "source": [
    "print(\n",
    "    \"   x      x      x      x      x      x      x    420    408    402    400    402    395      x      x      x      x      x      x      x      x   \\n   x      x      x      x      x      x      x    381    368    362    360    362    371      x      x      x      x      x      x      x      x   \\n   x      x      x      x      x      x      x    342    329    322    320    323    335      x      x      x      x      x      x      x      x   \\n   x      x      x      x      x      x      x    303    290    282    280    283    308      x      x      x      x      x      x      x      x   \\n   x      x      x      x      x      x      x    265    250    243    240    244      x      x      x      x      x      x      x      x      x   \\n   x      x      x      x      x      x      x    228    212    203    200    205      x      x      x      x      x      x      x      x      x   \\n 391    357    323    293    268      x    211    191    173    163    160    167      x      x      x      x      x      x      x      x      x   \\n 373    338    303    268    238    209    181    157    137    124    120    131      x      x      x      x      x      x      x      x      x   \\n 357    320    285    250    214    184    153    126    103     87     80    105      x      x      x      x      x      x      x      x      x   \\n 344    307    270    233    198    162    130    100     73     50     40      x      x      x      x      x      x      x      x      x      x   \\n 335    297    258    221    184    148    112     80     49     22     0       x      x      x      x      x      x      x      x      x      x   \\n 329    290    252    213    176    139    102     67     37     11     0       x      x      x      x      x      x      x      x      x      x   \\n 328    288    249    211    172    136     98     64     33     10     0       x      x      x      x      x      x      x      x      x      x   \\n 329    291    252    213    176    139    102     68     37     11     0       x      x      x      x      x      x      x      x      x      x   \\n 332    294    257    219    182    147    112     79     49     22     0     -17    -30    -38    -43    -45    -37      x      x      x      x   \\n 338    300    263    227    191    156    124     93     64     39     17      x    -14    -25    -34    -40    -45    -49    -51    -53    -53   \\n 343    307    271    235    202    168    136    107     79     55     34     16     0     -11    -21    -29    -34    -40    -44    -47    -50   \\n 351    315    281    246    212    181    150    121     96     71     50     32     17     3      -7    -16    -24    -29    -34    -39    -42   \\n 360    325    290    258    225    194    165    137    111     88     67     48     33     19     7       -    -11    -18    -24    -29    -34   \\n 369    336    302    269    238    208    179    153    127    104     84     65     48     35     22     11     2      -6    -13    -18    -24   \\n 380    346    314    282    251    223    194    168    144    121    100     82     65     50     37     26     15     7       x     -8    -13   \\n\\n\"\n",
    ")"
   ]
  },
  {
   "cell_type": "markdown",
   "metadata": {},
   "source": [
    "# Debugging JuPedSim"
   ]
  },
  {
   "cell_type": "code",
   "execution_count": 67,
   "metadata": {},
   "outputs": [],
   "source": [
    "import pandas as pd\n",
    "import numpy as np\n",
    "\n",
    "np.set_printoptions(linewidth=np.inf)\n",
    "\n",
    "\n",
    "def print_stencil(stencil):\n",
    "    for row in stencil:\n",
    "        print(\"\\t\".join(map(str, row)))"
   ]
  },
  {
   "cell_type": "code",
   "execution_count": 45,
   "metadata": {},
   "outputs": [],
   "source": [
    "local_distance_str = \"283    269    256    244    233    224    215    209    204    201    200    201    204    209    215    224    233    244    256    269    283   \\n 269    255    241    228    216    206    197    190    184    181    180    181    184    190    197    206    216    228    241    255    269   \\n 256    241    226    213    200    189    179    171    165    161    160    161    165    171    179    189    200    213    226    241    256   \\n 244    228    213    198    184    172    161    152    146    141    140    141    146    152    161    172    184    198    213    228    244   \\n 233    216    200    184    170    156    144    134    126    122    120    122    126    134    144    156    170    184    200    216    233   \\n 224    206    189    172    156    141    128    117    108    102    100    102    108    117    128    141    156    172    189    206    224   \\n 215    197    179    161    144    128    113    100     89     82     80     82     89    100    113    128    144    161    179    197    215   \\n 209    190    171    152    134    117    100     85     72     63     60     63     72     85    100    117    134    152    171    190    209   \\n 204    184    165    146    126    108     89     72     57     45     40     45     57     72     89    108    126    146    165    184    204   \\n 201    181    161    141    122    102     82     63     45     28     20     28     45     63     82    102    122    141    161    181    201   \\n 200    180    160    140    120    100     80     60     40     20     0      20     40     60     80    100    120    140    160    180    200   \\n 201    181    161    141    122    102     82     63     45     28     20     28     45     63     82    102    122    141    161    181    201   \\n 204    184    165    146    126    108     89     72     57     45     40     45     57     72     89    108    126    146    165    184    204   \\n 209    190    171    152    134    117    100     85     72     63     60     63     72     85    100    117    134    152    171    190    209   \\n 215    197    179    161    144    128    113    100     89     82     80     82     89    100    113    128    144    161    179    197    215   \\n 224    206    189    172    156    141    128    117    108    102    100    102    108    117    128    141    156    172    189    206    224   \\n 233    216    200    184    170    156    144    134    126    122    120    122    126    134    144    156    170    184    200    216    233   \\n 244    228    213    198    184    172    161    152    146    141    140    141    146    152    161    172    184    198    213    228    244   \\n 256    241    226    213    200    189    179    171    165    161    160    161    165    171    179    189    200    213    226    241    256   \\n 269    255    241    228    216    206    197    190    184    181    180    181    184    190    197    206    216    228    241    255    269   \\n 283    269    256    244    233    224    215    209    204    201    200    201    204    209    215    224    233    244    256    269    283   \\n\\n\"\n",
    "distance_stencil_str = \"   x      x      x      x      x      x      x    2682   2675   2672   2671   2672   2662     x      x      x      x      x      x      x      x   \\n   x      x      x      x      x      x      x    2662   2655   2652   2651   2652   2658     x      x      x      x      x      x      x      x   \\n   x      x      x      x      x      x      x    2642   2635   2632   2631   2633   2641     x      x      x      x      x      x      x      x   \\n   x      x      x      x      x      x      x    2622   2615   2612   2611   2613   2633     x      x      x      x      x      x      x      x   \\n   x      x      x      x      x      x      x    2602   2595   2592   2591   2593     x      x      x      x      x      x      x      x      x   \\n   x      x      x      x      x      x      x    2582   2575   2572   2571   2574     x      x      x      x      x      x      x      x      x   \\n 2647   2631   2615   2603   2595     x    2569   2562   2555   2552   2551   2556     x      x      x      x      x      x      x      x      x   \\n 2635   2619   2603   2587   2575   2563   2552   2543   2536   2532   2531   2539     x      x      x      x      x      x      x      x      x   \\n 2624   2607   2591   2575   2559   2547   2535   2525   2517   2513   2511   2531     x      x      x      x      x      x      x      x      x   \\n 2614   2597   2580   2563   2547   2531   2519   2508   2499   2493   2491     x      x      x      x      x      x      x      x      x      x   \\n 2606   2588   2569   2552   2535   2519   2503   2491   2480   2473   2471     x      x      x      x      x      x      x      x      x      x   \\n 2599   2580   2562   2543   2525   2508   2491   2475   2463   2454   2451     x      x      x      x      x      x      x      x      x      x   \\n 2595   2575   2555   2536   2517   2499   2480   2463   2447   2436   2431     x      x      x      x      x      x      x      x      x      x   \\n 2591   2572   2552   2532   2513   2493   2473   2454   2436   2419   2411     x      x      x      x      x      x      x      x      x      x   \\n 2588   2568   2549   2529   2509   2490   2470   2450   2431   2411   2391   2372   2352   2333   2315   2298   2290     x      x      x      x   \\n 2585   2565   2545   2526   2506   2486   2467   2447   2427   2408   2388   2368   2349   2329   2309   2290   2270   2250   2231   2212   2194  \\n 2581   2562   2542   2522   2503   2483   2463   2444   2424   2404   2385   2365   2345   2326   2306   2286   2267   2247   2227   2208   2188  \\n 2578   2558   2539   2519   2499   2480   2460   2440   2421   2401   2381   2362   2342   2322   2303   2283   2263   2244   2224   2204   2185  \\n 2575   2555   2535   2516   2496   2476   2457   2437   2417   2398   2378   2358   2339   2319   2299   2280   2260   2240   2221   2201   2181  \\n 2571   2552   2532   2512   2493   2473   2453   2434   2414   2394   2375   2355   2335   2316   2296   2276   2257   2237   2217   2198   2178  \\n 2568   2548   2529   2509   2489   2470   2450   2430   2411   2391   2371   2352   2332   2312   2293   2273   2253   2234   2214   2194   2175  \\n\\n\"\n",
    "distance_to_exit_str = \"   x      x      x      x      x      x      x    2891   2879   2873   2871   2873   2866     x      x      x      x      x      x      x      x   \\n   x      x      x      x      x      x      x    2852   2839   2833   2831   2833   2842     x      x      x      x      x      x      x      x   \\n   x      x      x      x      x      x      x    2813   2800   2793   2791   2794   2806     x      x      x      x      x      x      x      x   \\n   x      x      x      x      x      x      x    2774   2761   2753   2751   2754   2779     x      x      x      x      x      x      x      x   \\n   x      x      x      x      x      x      x    2736   2721   2714   2711   2715     x      x      x      x      x      x      x      x      x   \\n   x      x      x      x      x      x      x    2699   2683   2674   2671   2676     x      x      x      x      x      x      x      x      x   \\n 2862   2828   2794   2764   2739     x    2682   2662   2644   2634   2631   2638     x      x      x      x      x      x      x      x      x   \\n 2844   2809   2774   2739   2709   2680   2652   2628   2608   2595   2591   2602     x      x      x      x      x      x      x      x      x   \\n 2828   2791   2756   2721   2685   2655   2624   2597   2574   2558   2551   2576     x      x      x      x      x      x      x      x      x   \\n 2815   2778   2741   2704   2669   2633   2601   2571   2544   2521   2511     x      x      x      x      x      x      x      x      x      x   \\n 2806   2768   2729   2692   2655   2619   2583   2551   2520   2493   2471     x      x      x      x      x      x      x      x      x      x   \\n 2800   2761   2723   2684   2647   2610   2573   2538   2508   2482   2471     x      x      x      x      x      x      x      x      x      x   \\n 2799   2759   2720   2682   2643   2607   2569   2535   2504   2481   2471     x      x      x      x      x      x      x      x      x      x   \\n 2800   2762   2723   2684   2647   2610   2573   2539   2508   2482   2471     x      x      x      x      x      x      x      x      x      x   \\n 2803   2765   2728   2690   2653   2618   2583   2550   2520   2493   2471   2454   2441   2433   2428   2426   2434     x      x      x      x   \\n 2809   2771   2734   2698   2662   2627   2595   2564   2535   2510   2488   2470   2457   2446   2437   2431   2426   2422   2420   2418   2418  \\n 2814   2778   2742   2706   2673   2639   2607   2578   2550   2526   2505   2487   2471   2460   2450   2442   2437   2431   2427   2424   2421  \\n 2822   2786   2752   2717   2683   2652   2621   2592   2567   2542   2521   2503   2488   2474   2464   2455   2447   2442   2437   2432   2429  \\n 2831   2796   2761   2729   2696   2665   2636   2608   2582   2559   2538   2519   2504   2490   2478   2469   2460   2453   2447   2442   2437  \\n 2840   2807   2773   2740   2709   2679   2650   2624   2598   2575   2555   2536   2519   2506   2493   2482   2473   2465   2458   2453   2447  \\n 2851   2817   2785   2753   2722   2694   2665   2639   2615   2592   2571   2553   2536   2521   2508   2497   2486   2478   2470   2463   2458  \\n\\n\"\n",
    "surplus_distance_str = \"   x      x      x      x      x      x      x    420    408    402    400    402    395      x      x      x      x      x      x      x      x   \\n   x      x      x      x      x      x      x    381    368    362    360    362    371      x      x      x      x      x      x      x      x   \\n   x      x      x      x      x      x      x    342    329    322    320    323    335      x      x      x      x      x      x      x      x   \\n   x      x      x      x      x      x      x    303    290    282    280    283    308      x      x      x      x      x      x      x      x   \\n   x      x      x      x      x      x      x    265    250    243    240    244      x      x      x      x      x      x      x      x      x   \\n   x      x      x      x      x      x      x    228    212    203    200    205      x      x      x      x      x      x      x      x      x   \\n 391    357    323    293    268      x    211    191    173    163    160    167      x      x      x      x      x      x      x      x      x   \\n 373    338    303    268    238    209    181    157    137    124    120    131      x      x      x      x      x      x      x      x      x   \\n 357    320    285    250    214    184    153    126    103     87     80    105      x      x      x      x      x      x      x      x      x   \\n 344    307    270    233    198    162    130    100     73     50     40      x      x      x      x      x      x      x      x      x      x   \\n 335    297    258    221    184    148    112     80     49     22     0       x      x      x      x      x      x      x      x      x      x   \\n 329    290    252    213    176    139    102     67     37     11     0       x      x      x      x      x      x      x      x      x      x   \\n 328    288    249    211    172    136     98     64     33     10     0       x      x      x      x      x      x      x      x      x      x   \\n 329    291    252    213    176    139    102     68     37     11     0       x      x      x      x      x      x      x      x      x      x   \\n 332    294    257    219    182    147    112     79     49     22     0     -17    -30    -38    -43    -45    -37      x      x      x      x   \\n 338    300    263    227    191    156    124     93     64     39     17     -1    -14    -25    -34    -40    -45    -49    -51    -53    -53   \\n 343    307    271    235    202    168    136    107     79     55     34     16     0     -11    -21    -29    -34    -40    -44    -47    -50   \\n 351    315    281    246    212    181    150    121     96     71     50     32     17     3      -7    -16    -24    -29    -34    -39    -42   \\n 360    325    290    258    225    194    165    137    111     88     67     48     33     19     7      -2    -11    -18    -24    -29    -34   \\n 369    336    302    269    238    208    179    153    127    104     84     65     48     35     22     11     2      -6    -13    -18    -24   \\n 380    346    314    282    251    223    194    168    144    121    100     82     65     50     37     26     15     7      -1     -8    -13   \\n\\n\""
   ]
  },
  {
   "cell_type": "code",
   "execution_count": 70,
   "metadata": {},
   "outputs": [],
   "source": [
    "local_distance = np.fromstring(local_distance_str, sep=\"\\t\").reshape(21, 21)\n",
    "distance_stencil = np.fromstring(\n",
    "    distance_stencil_str.replace(\"x\", \"nan\"), sep=\"\\t\"\n",
    ").reshape(21, 21)\n",
    "distance_to_exit = np.fromstring(\n",
    "    distance_to_exit_str.replace(\"x\", \"nan\"), sep=\"\\t\"\n",
    ").reshape(21, 21)\n",
    "surplus_distance = np.fromstring(\n",
    "    surplus_distance_str.replace(\"x\", \"nan\"), sep=\"\\t\"\n",
    ").reshape(21, 21)"
   ]
  },
  {
   "cell_type": "code",
   "execution_count": 71,
   "metadata": {},
   "outputs": [
    {
     "name": "stdout",
     "output_type": "stream",
     "text": [
      "283.0\t269.0\t256.0\t244.0\t233.0\t224.0\t215.0\t209.0\t204.0\t201.0\t200.0\t201.0\t204.0\t209.0\t215.0\t224.0\t233.0\t244.0\t256.0\t269.0\t283.0\n",
      "269.0\t255.0\t241.0\t228.0\t216.0\t206.0\t197.0\t190.0\t184.0\t181.0\t180.0\t181.0\t184.0\t190.0\t197.0\t206.0\t216.0\t228.0\t241.0\t255.0\t269.0\n",
      "256.0\t241.0\t226.0\t213.0\t200.0\t189.0\t179.0\t171.0\t165.0\t161.0\t160.0\t161.0\t165.0\t171.0\t179.0\t189.0\t200.0\t213.0\t226.0\t241.0\t256.0\n",
      "244.0\t228.0\t213.0\t198.0\t184.0\t172.0\t161.0\t152.0\t146.0\t141.0\t140.0\t141.0\t146.0\t152.0\t161.0\t172.0\t184.0\t198.0\t213.0\t228.0\t244.0\n",
      "233.0\t216.0\t200.0\t184.0\t170.0\t156.0\t144.0\t134.0\t126.0\t122.0\t120.0\t122.0\t126.0\t134.0\t144.0\t156.0\t170.0\t184.0\t200.0\t216.0\t233.0\n",
      "224.0\t206.0\t189.0\t172.0\t156.0\t141.0\t128.0\t117.0\t108.0\t102.0\t100.0\t102.0\t108.0\t117.0\t128.0\t141.0\t156.0\t172.0\t189.0\t206.0\t224.0\n",
      "215.0\t197.0\t179.0\t161.0\t144.0\t128.0\t113.0\t100.0\t89.0\t82.0\t80.0\t82.0\t89.0\t100.0\t113.0\t128.0\t144.0\t161.0\t179.0\t197.0\t215.0\n",
      "209.0\t190.0\t171.0\t152.0\t134.0\t117.0\t100.0\t85.0\t72.0\t63.0\t60.0\t63.0\t72.0\t85.0\t100.0\t117.0\t134.0\t152.0\t171.0\t190.0\t209.0\n",
      "204.0\t184.0\t165.0\t146.0\t126.0\t108.0\t89.0\t72.0\t57.0\t45.0\t40.0\t45.0\t57.0\t72.0\t89.0\t108.0\t126.0\t146.0\t165.0\t184.0\t204.0\n",
      "201.0\t181.0\t161.0\t141.0\t122.0\t102.0\t82.0\t63.0\t45.0\t28.0\t20.0\t28.0\t45.0\t63.0\t82.0\t102.0\t122.0\t141.0\t161.0\t181.0\t201.0\n",
      "200.0\t180.0\t160.0\t140.0\t120.0\t100.0\t80.0\t60.0\t40.0\t20.0\t0.0\t20.0\t40.0\t60.0\t80.0\t100.0\t120.0\t140.0\t160.0\t180.0\t200.0\n",
      "201.0\t181.0\t161.0\t141.0\t122.0\t102.0\t82.0\t63.0\t45.0\t28.0\t20.0\t28.0\t45.0\t63.0\t82.0\t102.0\t122.0\t141.0\t161.0\t181.0\t201.0\n",
      "204.0\t184.0\t165.0\t146.0\t126.0\t108.0\t89.0\t72.0\t57.0\t45.0\t40.0\t45.0\t57.0\t72.0\t89.0\t108.0\t126.0\t146.0\t165.0\t184.0\t204.0\n",
      "209.0\t190.0\t171.0\t152.0\t134.0\t117.0\t100.0\t85.0\t72.0\t63.0\t60.0\t63.0\t72.0\t85.0\t100.0\t117.0\t134.0\t152.0\t171.0\t190.0\t209.0\n",
      "215.0\t197.0\t179.0\t161.0\t144.0\t128.0\t113.0\t100.0\t89.0\t82.0\t80.0\t82.0\t89.0\t100.0\t113.0\t128.0\t144.0\t161.0\t179.0\t197.0\t215.0\n",
      "224.0\t206.0\t189.0\t172.0\t156.0\t141.0\t128.0\t117.0\t108.0\t102.0\t100.0\t102.0\t108.0\t117.0\t128.0\t141.0\t156.0\t172.0\t189.0\t206.0\t224.0\n",
      "233.0\t216.0\t200.0\t184.0\t170.0\t156.0\t144.0\t134.0\t126.0\t122.0\t120.0\t122.0\t126.0\t134.0\t144.0\t156.0\t170.0\t184.0\t200.0\t216.0\t233.0\n",
      "244.0\t228.0\t213.0\t198.0\t184.0\t172.0\t161.0\t152.0\t146.0\t141.0\t140.0\t141.0\t146.0\t152.0\t161.0\t172.0\t184.0\t198.0\t213.0\t228.0\t244.0\n",
      "256.0\t241.0\t226.0\t213.0\t200.0\t189.0\t179.0\t171.0\t165.0\t161.0\t160.0\t161.0\t165.0\t171.0\t179.0\t189.0\t200.0\t213.0\t226.0\t241.0\t256.0\n",
      "269.0\t255.0\t241.0\t228.0\t216.0\t206.0\t197.0\t190.0\t184.0\t181.0\t180.0\t181.0\t184.0\t190.0\t197.0\t206.0\t216.0\t228.0\t241.0\t255.0\t269.0\n",
      "283.0\t269.0\t256.0\t244.0\t233.0\t224.0\t215.0\t209.0\t204.0\t201.0\t200.0\t201.0\t204.0\t209.0\t215.0\t224.0\t233.0\t244.0\t256.0\t269.0\t283.0\n"
     ]
    }
   ],
   "source": [
    "print_stencil(local_distance)"
   ]
  },
  {
   "cell_type": "code",
   "execution_count": 65,
   "metadata": {},
   "outputs": [
    {
     "name": "stdout",
     "output_type": "stream",
     "text": [
      "nan\tnan\tnan\tnan\tnan\tnan\tnan\t2682.0\t2675.0\t2672.0\t2671.0\t2672.0\t2662.0\tnan\tnan\tnan\tnan\tnan\tnan\tnan\tnan\n",
      "nan\tnan\tnan\tnan\tnan\tnan\tnan\t2662.0\t2655.0\t2652.0\t2651.0\t2652.0\t2658.0\tnan\tnan\tnan\tnan\tnan\tnan\tnan\tnan\n",
      "nan\tnan\tnan\tnan\tnan\tnan\tnan\t2642.0\t2635.0\t2632.0\t2631.0\t2633.0\t2641.0\tnan\tnan\tnan\tnan\tnan\tnan\tnan\tnan\n",
      "nan\tnan\tnan\tnan\tnan\tnan\tnan\t2622.0\t2615.0\t2612.0\t2611.0\t2613.0\t2633.0\tnan\tnan\tnan\tnan\tnan\tnan\tnan\tnan\n",
      "nan\tnan\tnan\tnan\tnan\tnan\tnan\t2602.0\t2595.0\t2592.0\t2591.0\t2593.0\tnan\tnan\tnan\tnan\tnan\tnan\tnan\tnan\tnan\n",
      "nan\tnan\tnan\tnan\tnan\tnan\tnan\t2582.0\t2575.0\t2572.0\t2571.0\t2574.0\tnan\tnan\tnan\tnan\tnan\tnan\tnan\tnan\tnan\n",
      "2647.0\t2631.0\t2615.0\t2603.0\t2595.0\tnan\t2569.0\t2562.0\t2555.0\t2552.0\t2551.0\t2556.0\tnan\tnan\tnan\tnan\tnan\tnan\tnan\tnan\tnan\n",
      "2635.0\t2619.0\t2603.0\t2587.0\t2575.0\t2563.0\t2552.0\t2543.0\t2536.0\t2532.0\t2531.0\t2539.0\tnan\tnan\tnan\tnan\tnan\tnan\tnan\tnan\tnan\n",
      "2624.0\t2607.0\t2591.0\t2575.0\t2559.0\t2547.0\t2535.0\t2525.0\t2517.0\t2513.0\t2511.0\t2531.0\tnan\tnan\tnan\tnan\tnan\tnan\tnan\tnan\tnan\n",
      "2614.0\t2597.0\t2580.0\t2563.0\t2547.0\t2531.0\t2519.0\t2508.0\t2499.0\t2493.0\t2491.0\tnan\tnan\tnan\tnan\tnan\tnan\tnan\tnan\tnan\tnan\n",
      "2606.0\t2588.0\t2569.0\t2552.0\t2535.0\t2519.0\t2503.0\t2491.0\t2480.0\t2473.0\t2471.0\tnan\tnan\tnan\tnan\tnan\tnan\tnan\tnan\tnan\tnan\n",
      "2599.0\t2580.0\t2562.0\t2543.0\t2525.0\t2508.0\t2491.0\t2475.0\t2463.0\t2454.0\t2451.0\tnan\tnan\tnan\tnan\tnan\tnan\tnan\tnan\tnan\tnan\n",
      "2595.0\t2575.0\t2555.0\t2536.0\t2517.0\t2499.0\t2480.0\t2463.0\t2447.0\t2436.0\t2431.0\tnan\tnan\tnan\tnan\tnan\tnan\tnan\tnan\tnan\tnan\n",
      "2591.0\t2572.0\t2552.0\t2532.0\t2513.0\t2493.0\t2473.0\t2454.0\t2436.0\t2419.0\t2411.0\tnan\tnan\tnan\tnan\tnan\tnan\tnan\tnan\tnan\tnan\n",
      "2588.0\t2568.0\t2549.0\t2529.0\t2509.0\t2490.0\t2470.0\t2450.0\t2431.0\t2411.0\t2391.0\t2372.0\t2352.0\t2333.0\t2315.0\t2298.0\t2290.0\tnan\tnan\tnan\tnan\n",
      "2585.0\t2565.0\t2545.0\t2526.0\t2506.0\t2486.0\t2467.0\t2447.0\t2427.0\t2408.0\t2388.0\t2368.0\t2349.0\t2329.0\t2309.0\t2290.0\t2270.0\t2250.0\t2231.0\t2212.0\t2194.0\n",
      "2581.0\t2562.0\t2542.0\t2522.0\t2503.0\t2483.0\t2463.0\t2444.0\t2424.0\t2404.0\t2385.0\t2365.0\t2345.0\t2326.0\t2306.0\t2286.0\t2267.0\t2247.0\t2227.0\t2208.0\t2188.0\n",
      "2578.0\t2558.0\t2539.0\t2519.0\t2499.0\t2480.0\t2460.0\t2440.0\t2421.0\t2401.0\t2381.0\t2362.0\t2342.0\t2322.0\t2303.0\t2283.0\t2263.0\t2244.0\t2224.0\t2204.0\t2185.0\n",
      "2575.0\t2555.0\t2535.0\t2516.0\t2496.0\t2476.0\t2457.0\t2437.0\t2417.0\t2398.0\t2378.0\t2358.0\t2339.0\t2319.0\t2299.0\t2280.0\t2260.0\t2240.0\t2221.0\t2201.0\t2181.0\n",
      "2571.0\t2552.0\t2532.0\t2512.0\t2493.0\t2473.0\t2453.0\t2434.0\t2414.0\t2394.0\t2375.0\t2355.0\t2335.0\t2316.0\t2296.0\t2276.0\t2257.0\t2237.0\t2217.0\t2198.0\t2178.0\n",
      "2568.0\t2548.0\t2529.0\t2509.0\t2489.0\t2470.0\t2450.0\t2430.0\t2411.0\t2391.0\t2371.0\t2352.0\t2332.0\t2312.0\t2293.0\t2273.0\t2253.0\t2234.0\t2214.0\t2194.0\t2175.0\n"
     ]
    }
   ],
   "source": [
    "print_stencil(distance_stencil)"
   ]
  },
  {
   "cell_type": "code",
   "execution_count": 69,
   "metadata": {},
   "outputs": [
    {
     "name": "stdout",
     "output_type": "stream",
     "text": [
      "nan\tnan\tnan\tnan\tnan\tnan\tnan\t2891.0\t2879.0\t2873.0\t2871.0\t2873.0\t2866.0\tnan\tnan\tnan\tnan\tnan\tnan\tnan\tnan\n",
      "nan\tnan\tnan\tnan\tnan\tnan\tnan\t2852.0\t2839.0\t2833.0\t2831.0\t2833.0\t2842.0\tnan\tnan\tnan\tnan\tnan\tnan\tnan\tnan\n",
      "nan\tnan\tnan\tnan\tnan\tnan\tnan\t2813.0\t2800.0\t2793.0\t2791.0\t2794.0\t2806.0\tnan\tnan\tnan\tnan\tnan\tnan\tnan\tnan\n",
      "nan\tnan\tnan\tnan\tnan\tnan\tnan\t2774.0\t2761.0\t2753.0\t2751.0\t2754.0\t2779.0\tnan\tnan\tnan\tnan\tnan\tnan\tnan\tnan\n",
      "nan\tnan\tnan\tnan\tnan\tnan\tnan\t2736.0\t2721.0\t2714.0\t2711.0\t2715.0\tnan\tnan\tnan\tnan\tnan\tnan\tnan\tnan\tnan\n",
      "nan\tnan\tnan\tnan\tnan\tnan\tnan\t2699.0\t2683.0\t2674.0\t2671.0\t2676.0\tnan\tnan\tnan\tnan\tnan\tnan\tnan\tnan\tnan\n",
      "2862.0\t2828.0\t2794.0\t2764.0\t2739.0\tnan\t2682.0\t2662.0\t2644.0\t2634.0\t2631.0\t2638.0\tnan\tnan\tnan\tnan\tnan\tnan\tnan\tnan\tnan\n",
      "2844.0\t2809.0\t2774.0\t2739.0\t2709.0\t2680.0\t2652.0\t2628.0\t2608.0\t2595.0\t2591.0\t2602.0\tnan\tnan\tnan\tnan\tnan\tnan\tnan\tnan\tnan\n",
      "2828.0\t2791.0\t2756.0\t2721.0\t2685.0\t2655.0\t2624.0\t2597.0\t2574.0\t2558.0\t2551.0\t2576.0\tnan\tnan\tnan\tnan\tnan\tnan\tnan\tnan\tnan\n",
      "2815.0\t2778.0\t2741.0\t2704.0\t2669.0\t2633.0\t2601.0\t2571.0\t2544.0\t2521.0\t2511.0\tnan\tnan\tnan\tnan\tnan\tnan\tnan\tnan\tnan\tnan\n",
      "2806.0\t2768.0\t2729.0\t2692.0\t2655.0\t2619.0\t2583.0\t2551.0\t2520.0\t2493.0\t2471.0\tnan\tnan\tnan\tnan\tnan\tnan\tnan\tnan\tnan\tnan\n",
      "2800.0\t2761.0\t2723.0\t2684.0\t2647.0\t2610.0\t2573.0\t2538.0\t2508.0\t2482.0\t2471.0\tnan\tnan\tnan\tnan\tnan\tnan\tnan\tnan\tnan\tnan\n",
      "2799.0\t2759.0\t2720.0\t2682.0\t2643.0\t2607.0\t2569.0\t2535.0\t2504.0\t2481.0\t2471.0\tnan\tnan\tnan\tnan\tnan\tnan\tnan\tnan\tnan\tnan\n",
      "2800.0\t2762.0\t2723.0\t2684.0\t2647.0\t2610.0\t2573.0\t2539.0\t2508.0\t2482.0\t2471.0\tnan\tnan\tnan\tnan\tnan\tnan\tnan\tnan\tnan\tnan\n",
      "2803.0\t2765.0\t2728.0\t2690.0\t2653.0\t2618.0\t2583.0\t2550.0\t2520.0\t2493.0\t2471.0\t2454.0\t2441.0\t2433.0\t2428.0\t2426.0\t2434.0\tnan\tnan\tnan\tnan\n",
      "2809.0\t2771.0\t2734.0\t2698.0\t2662.0\t2627.0\t2595.0\t2564.0\t2535.0\t2510.0\t2488.0\t2470.0\t2457.0\t2446.0\t2437.0\t2431.0\t2426.0\t2422.0\t2420.0\t2418.0\t2418.0\n",
      "2814.0\t2778.0\t2742.0\t2706.0\t2673.0\t2639.0\t2607.0\t2578.0\t2550.0\t2526.0\t2505.0\t2487.0\t2471.0\t2460.0\t2450.0\t2442.0\t2437.0\t2431.0\t2427.0\t2424.0\t2421.0\n",
      "2822.0\t2786.0\t2752.0\t2717.0\t2683.0\t2652.0\t2621.0\t2592.0\t2567.0\t2542.0\t2521.0\t2503.0\t2488.0\t2474.0\t2464.0\t2455.0\t2447.0\t2442.0\t2437.0\t2432.0\t2429.0\n",
      "2831.0\t2796.0\t2761.0\t2729.0\t2696.0\t2665.0\t2636.0\t2608.0\t2582.0\t2559.0\t2538.0\t2519.0\t2504.0\t2490.0\t2478.0\t2469.0\t2460.0\t2453.0\t2447.0\t2442.0\t2437.0\n",
      "2840.0\t2807.0\t2773.0\t2740.0\t2709.0\t2679.0\t2650.0\t2624.0\t2598.0\t2575.0\t2555.0\t2536.0\t2519.0\t2506.0\t2493.0\t2482.0\t2473.0\t2465.0\t2458.0\t2453.0\t2447.0\n",
      "2851.0\t2817.0\t2785.0\t2753.0\t2722.0\t2694.0\t2665.0\t2639.0\t2615.0\t2592.0\t2571.0\t2553.0\t2536.0\t2521.0\t2508.0\t2497.0\t2486.0\t2478.0\t2470.0\t2463.0\t2458.0\n"
     ]
    }
   ],
   "source": [
    "print_stencil(distance_to_exit)"
   ]
  },
  {
   "cell_type": "code",
   "execution_count": 68,
   "metadata": {},
   "outputs": [
    {
     "name": "stdout",
     "output_type": "stream",
     "text": [
      "nan\tnan\tnan\tnan\tnan\tnan\tnan\t420.0\t408.0\t402.0\t400.0\t402.0\t395.0\tnan\tnan\tnan\tnan\tnan\tnan\tnan\tnan\n",
      "nan\tnan\tnan\tnan\tnan\tnan\tnan\t381.0\t368.0\t362.0\t360.0\t362.0\t371.0\tnan\tnan\tnan\tnan\tnan\tnan\tnan\tnan\n",
      "nan\tnan\tnan\tnan\tnan\tnan\tnan\t342.0\t329.0\t322.0\t320.0\t323.0\t335.0\tnan\tnan\tnan\tnan\tnan\tnan\tnan\tnan\n",
      "nan\tnan\tnan\tnan\tnan\tnan\tnan\t303.0\t290.0\t282.0\t280.0\t283.0\t308.0\tnan\tnan\tnan\tnan\tnan\tnan\tnan\tnan\n",
      "nan\tnan\tnan\tnan\tnan\tnan\tnan\t265.0\t250.0\t243.0\t240.0\t244.0\tnan\tnan\tnan\tnan\tnan\tnan\tnan\tnan\tnan\n",
      "nan\tnan\tnan\tnan\tnan\tnan\tnan\t228.0\t212.0\t203.0\t200.0\t205.0\tnan\tnan\tnan\tnan\tnan\tnan\tnan\tnan\tnan\n",
      "391.0\t357.0\t323.0\t293.0\t268.0\tnan\t211.0\t191.0\t173.0\t163.0\t160.0\t167.0\tnan\tnan\tnan\tnan\tnan\tnan\tnan\tnan\tnan\n",
      "373.0\t338.0\t303.0\t268.0\t238.0\t209.0\t181.0\t157.0\t137.0\t124.0\t120.0\t131.0\tnan\tnan\tnan\tnan\tnan\tnan\tnan\tnan\tnan\n",
      "357.0\t320.0\t285.0\t250.0\t214.0\t184.0\t153.0\t126.0\t103.0\t87.0\t80.0\t105.0\tnan\tnan\tnan\tnan\tnan\tnan\tnan\tnan\tnan\n",
      "344.0\t307.0\t270.0\t233.0\t198.0\t162.0\t130.0\t100.0\t73.0\t50.0\t40.0\tnan\tnan\tnan\tnan\tnan\tnan\tnan\tnan\tnan\tnan\n",
      "335.0\t297.0\t258.0\t221.0\t184.0\t148.0\t112.0\t80.0\t49.0\t22.0\t0.0\tnan\tnan\tnan\tnan\tnan\tnan\tnan\tnan\tnan\tnan\n",
      "329.0\t290.0\t252.0\t213.0\t176.0\t139.0\t102.0\t67.0\t37.0\t11.0\t0.0\tnan\tnan\tnan\tnan\tnan\tnan\tnan\tnan\tnan\tnan\n",
      "328.0\t288.0\t249.0\t211.0\t172.0\t136.0\t98.0\t64.0\t33.0\t10.0\t0.0\tnan\tnan\tnan\tnan\tnan\tnan\tnan\tnan\tnan\tnan\n",
      "329.0\t291.0\t252.0\t213.0\t176.0\t139.0\t102.0\t68.0\t37.0\t11.0\t0.0\tnan\tnan\tnan\tnan\tnan\tnan\tnan\tnan\tnan\tnan\n",
      "332.0\t294.0\t257.0\t219.0\t182.0\t147.0\t112.0\t79.0\t49.0\t22.0\t0.0\t-17.0\t-30.0\t-38.0\t-43.0\t-45.0\t-37.0\tnan\tnan\tnan\tnan\n",
      "338.0\t300.0\t263.0\t227.0\t191.0\t156.0\t124.0\t93.0\t64.0\t39.0\t17.0\t-1.0\t-14.0\t-25.0\t-34.0\t-40.0\t-45.0\t-49.0\t-51.0\t-53.0\t-53.0\n",
      "343.0\t307.0\t271.0\t235.0\t202.0\t168.0\t136.0\t107.0\t79.0\t55.0\t34.0\t16.0\t0.0\t-11.0\t-21.0\t-29.0\t-34.0\t-40.0\t-44.0\t-47.0\t-50.0\n",
      "351.0\t315.0\t281.0\t246.0\t212.0\t181.0\t150.0\t121.0\t96.0\t71.0\t50.0\t32.0\t17.0\t3.0\t-7.0\t-16.0\t-24.0\t-29.0\t-34.0\t-39.0\t-42.0\n",
      "360.0\t325.0\t290.0\t258.0\t225.0\t194.0\t165.0\t137.0\t111.0\t88.0\t67.0\t48.0\t33.0\t19.0\t7.0\t-2.0\t-11.0\t-18.0\t-24.0\t-29.0\t-34.0\n",
      "369.0\t336.0\t302.0\t269.0\t238.0\t208.0\t179.0\t153.0\t127.0\t104.0\t84.0\t65.0\t48.0\t35.0\t22.0\t11.0\t2.0\t-6.0\t-13.0\t-18.0\t-24.0\n",
      "380.0\t346.0\t314.0\t282.0\t251.0\t223.0\t194.0\t168.0\t144.0\t121.0\t100.0\t82.0\t65.0\t50.0\t37.0\t26.0\t15.0\t7.0\t-1.0\t-8.0\t-13.0\n"
     ]
    }
   ],
   "source": [
    "print_stencil(surplus_distance)"
   ]
  },
  {
   "cell_type": "code",
   "execution_count": 64,
   "metadata": {},
   "outputs": [],
   "source": []
  },
  {
   "cell_type": "code",
   "execution_count": 22,
   "metadata": {},
   "outputs": [
    {
     "name": "stdout",
     "output_type": "stream",
     "text": [
      "Surplus Distance Exit\n",
      "    x      x      x      x      x      x      x    2891   2879   2873   2871   2873   2866     x      x      x      x      x      x      x      x   \n",
      "   x      x      x      x      x      x      x    2852   2839   2833   2831   2833   2842     x      x      x      x      x      x      x      x   \n",
      "   x      x      x      x      x      x      x    2813   2800   2793   2791   2794   2806     x      x      x      x      x      x      x      x   \n",
      "   x      x      x      x      x      x      x    2774   2761   2753   2751   2754   2779     x      x      x      x      x      x      x      x   \n",
      "   x      x      x      x      x      x      x    2736   2721   2714   2711   2715     x      x      x      x      x      x      x      x      x   \n",
      "   x      x      x      x      x      x      x    2699   2683   2674   2671   2676     x      x      x      x      x      x      x      x      x   \n",
      " 2862   2828   2794   2764   2739     x    2682   2662   2644   2634   2631   2638     x      x      x      x      x      x      x      x      x   \n",
      " 2844   2809   2774   2739   2709   2680   2652   2628   2608   2595   2591   2602     x      x      x      x      x      x      x      x      x   \n",
      " 2828   2791   2756   2721   2685   2655   2624   2597   2574   2558   2551   2576     x      x      x      x      x      x      x      x      x   \n",
      " 2815   2778   2741   2704   2669   2633   2601   2571   2544   2521   2511     x      x      x      x      x      x      x      x      x      x   \n",
      " 2806   2768   2729   2692   2655   2619   2583   2551   2520   2493   2471     x      x      x      x      x      x      x      x      x      x   \n",
      " 2800   2761   2723   2684   2647   2610   2573   2538   2508   2482   2471     x      x      x      x      x      x      x      x      x      x   \n",
      " 2799   2759   2720   2682   2643   2607   2569   2535   2504   2481   2471     x      x      x      x      x      x      x      x      x      x   \n",
      " 2800   2762   2723   2684   2647   2610   2573   2539   2508   2482   2471     x      x      x      x      x      x      x      x      x      x   \n",
      " 2803   2765   2728   2690   2653   2618   2583   2550   2520   2493   2471   2454   2441   2433   2428   2426   2434     x      x      x      x   \n",
      " 2809   2771   2734   2698   2662   2627   2595   2564   2535   2510   2488   2470   2457   2446   2437   2431   2426   2422   2420   2418   2418  \n",
      " 2814   2778   2742   2706   2673   2639   2607   2578   2550   2526   2505   2487   2471   2460   2450   2442   2437   2431   2427   2424   2421  \n",
      " 2822   2786   2752   2717   2683   2652   2621   2592   2567   2542   2521   2503   2488   2474   2464   2455   2447   2442   2437   2432   2429  \n",
      " 2831   2796   2761   2729   2696   2665   2636   2608   2582   2559   2538   2519   2504   2490   2478   2469   2460   2453   2447   2442   2437  \n",
      " 2840   2807   2773   2740   2709   2679   2650   2624   2598   2575   2555   2536   2519   2506   2493   2482   2473   2465   2458   2453   2447  \n",
      " 2851   2817   2785   2753   2722   2694   2665   2639   2615   2592   2571   2553   2536   2521   2508   2497   2486   2478   2470   2463   2458  \n",
      "\n",
      "\n"
     ]
    }
   ],
   "source": [
    "print(\n",
    "    \"Surplus Distance Exit\\n\",\n",
    ")"
   ]
  },
  {
   "cell_type": "code",
   "execution_count": null,
   "metadata": {},
   "outputs": [],
   "source": []
  },
  {
   "cell_type": "code",
   "execution_count": 25,
   "metadata": {},
   "outputs": [
    {
     "name": "stdout",
     "output_type": "stream",
     "text": [
      "   x      x      x      x      x      x      x    420    408    402    400    402    395      x      x      x      x      x      x      x      x   \n",
      "   x      x      x      x      x      x      x    381    368    362    360    362    371      x      x      x      x      x      x      x      x   \n",
      "   x      x      x      x      x      x      x    342    329    322    320    323    335      x      x      x      x      x      x      x      x   \n",
      "   x      x      x      x      x      x      x    303    290    282    280    283    308      x      x      x      x      x      x      x      x   \n",
      "   x      x      x      x      x      x      x    265    250    243    240    244      x      x      x      x      x      x      x      x      x   \n",
      "   x      x      x      x      x      x      x    228    212    203    200    205      x      x      x      x      x      x      x      x      x   \n",
      " 391    357    323    293    268      x    211    191    173    163    160    167      x      x      x      x      x      x      x      x      x   \n",
      " 373    338    303    268    238    209    181    157    137    124    120    131      x      x      x      x      x      x      x      x      x   \n",
      " 357    320    285    250    214    184    153    126    103     87     80    105      x      x      x      x      x      x      x      x      x   \n",
      " 344    307    270    233    198    162    130    100     73     50     40      x      x      x      x      x      x      x      x      x      x   \n",
      " 335    297    258    221    184    148    112     80     49     22     0       x      x      x      x      x      x      x      x      x      x   \n",
      " 329    290    252    213    176    139    102     67     37     11     0       x      x      x      x      x      x      x      x      x      x   \n",
      " 328    288    249    211    172    136     98     64     33     10     0       x      x      x      x      x      x      x      x      x      x   \n",
      " 329    291    252    213    176    139    102     68     37     11     0       x      x      x      x      x      x      x      x      x      x   \n",
      " 332    294    257    219    182    147    112     79     49     22     0     -17    -30    -38    -43    -45    -37      x      x      x      x   \n",
      " 338    300    263    227    191    156    124     93     64     39     17     -1    -14    -25    -34    -40    -45    -49    -51    -53    -53   \n",
      " 343    307    271    235    202    168    136    107     79     55     34     16     0     -11    -21    -29    -34    -40    -44    -47    -50   \n",
      " 351    315    281    246    212    181    150    121     96     71     50     32     17     3      -7    -16    -24    -29    -34    -39    -42   \n",
      " 360    325    290    258    225    194    165    137    111     88     67     48     33     19     7      -2    -11    -18    -24    -29    -34   \n",
      " 369    336    302    269    238    208    179    153    127    104     84     65     48     35     22     11     2      -6    -13    -18    -24   \n",
      " 380    346    314    282    251    223    194    168    144    121    100     82     65     50     37     26     15     7      -1     -8    -13   \n",
      "\n",
      "\n"
     ]
    }
   ],
   "source": [
    "print(\n",
    "    \"   x      x      x      x      x      x      x    420    408    402    400    402    395      x      x      x      x      x      x      x      x   \\n   x      x      x      x      x      x      x    381    368    362    360    362    371      x      x      x      x      x      x      x      x   \\n   x      x      x      x      x      x      x    342    329    322    320    323    335      x      x      x      x      x      x      x      x   \\n   x      x      x      x      x      x      x    303    290    282    280    283    308      x      x      x      x      x      x      x      x   \\n   x      x      x      x      x      x      x    265    250    243    240    244      x      x      x      x      x      x      x      x      x   \\n   x      x      x      x      x      x      x    228    212    203    200    205      x      x      x      x      x      x      x      x      x   \\n 391    357    323    293    268      x    211    191    173    163    160    167      x      x      x      x      x      x      x      x      x   \\n 373    338    303    268    238    209    181    157    137    124    120    131      x      x      x      x      x      x      x      x      x   \\n 357    320    285    250    214    184    153    126    103     87     80    105      x      x      x      x      x      x      x      x      x   \\n 344    307    270    233    198    162    130    100     73     50     40      x      x      x      x      x      x      x      x      x      x   \\n 335    297    258    221    184    148    112     80     49     22     0       x      x      x      x      x      x      x      x      x      x   \\n 329    290    252    213    176    139    102     67     37     11     0       x      x      x      x      x      x      x      x      x      x   \\n 328    288    249    211    172    136     98     64     33     10     0       x      x      x      x      x      x      x      x      x      x   \\n 329    291    252    213    176    139    102     68     37     11     0       x      x      x      x      x      x      x      x      x      x   \\n 332    294    257    219    182    147    112     79     49     22     0     -17    -30    -38    -43    -45    -37      x      x      x      x   \\n 338    300    263    227    191    156    124     93     64     39     17     -1    -14    -25    -34    -40    -45    -49    -51    -53    -53   \\n 343    307    271    235    202    168    136    107     79     55     34     16     0     -11    -21    -29    -34    -40    -44    -47    -50   \\n 351    315    281    246    212    181    150    121     96     71     50     32     17     3      -7    -16    -24    -29    -34    -39    -42   \\n 360    325    290    258    225    194    165    137    111     88     67     48     33     19     7      -2    -11    -18    -24    -29    -34   \\n 369    336    302    269    238    208    179    153    127    104     84     65     48     35     22     11     2      -6    -13    -18    -24   \\n 380    346    314    282    251    223    194    168    144    121    100     82     65     50     37     26     15     7      -1     -8    -13   \\n\\n\"\n",
    ")"
   ]
  },
  {
   "cell_type": "code",
   "execution_count": 45,
   "metadata": {},
   "outputs": [
    {
     "data": {
      "image/svg+xml": [
       "<svg xmlns=\"http://www.w3.org/2000/svg\" xmlns:xlink=\"http://www.w3.org/1999/xlink\" width=\"113.40989539191126\" height=\"102.88356725197285\" viewBox=\"-57.66417449235916 -47.23586937960237 113.40989539191126 102.88356725197285\" preserveAspectRatio=\"xMinYMin meet\"><g transform=\"matrix(1,0,0,-1,0,8.411828492768109)\"><path fill-rule=\"evenodd\" fill=\"#66cc99\" stroke=\"#555555\" stroke-width=\"2.0\" opacity=\"0.6\" d=\"M 18.83465924486518,18.32051929552108 L 19.34909300506115,19.590621585957706 L 21.88797490298748,19.574282886460423 L 21.92662440240383,25.58028939552605 L 21.399865701794624,29.031714636832476 L 23.50779790431261,36.69280955661088 L 23.573981944471598,45.18158556893468 L 32.53619200363755,41.44733137637377 L 31.20233740285039,38.089252636767924 L 29.37461530417204,31.31616737600416 L 29.752693705260754,26.086068406701088 L 29.663249105215073,12.183275556191802 L 26.770455703139305,-0.144303503446281 L 51.5303654037416,-2.083181253634393 L 51.54535440355539,-10.425297893583775 L 25.687502205371857,-8.479356283321977 L 23.082762002944946,-18.6954745631665 L 20.58814410492778,-22.461137543432415 L 30.01885560527444,-39.205858843401074 L 20.18125330284238,-43.03550288360566 L 15.357246603816748,-35.552251423709095 L 15.430876795202494,-34.77413675375283 L 14.570326302200556,-29.87461249344051 L 11.965247824788094,-29.8633663803339 L 11.188772104680538,-22.178186903707683 L -9.110273897647858,-20.156618523411453 L -28.026172697544098,-16.475477723404765 L -31.06588539481163,-40.92581510357559 L -34.83994489535689,-40.901487483642995 L -31.221869096159935,-11.894575073383749 L -42.19658439606428,-11.156461293809116 L -43.4304156973958,-11.084705794230103 L -52.46380799636245,-11.552668623626232 L -53.46380799636245,-0.5526686236262321 L -43.46380799636245,1.4473313689231873 L -42.520086497068405,2.5265405867248774 L -41.75165539607406,4.63489802647382 L -18.330484494566917,7.931972056627274 L -18.319018498063087,9.711529466323555 L -15.985987197607756,9.6964978761971 L -16.270320296287537,18.818940156139433 L -18.536162197589874,18.611085096374154 L -19.38412469625473,46.75696967635304 L -19.463807996362448,51.44733137637377 L -8.463807996362448,51.44733137637377 L -9.71471018716693,45.804858786053956 L -9.804981797933578,31.790843468159437 L -10.293190594762564,30.57049175631255 L -10.344775095582008,22.562483147718012 L -7.68527864664793,20.609930960461497 L -7.149235997349024,7.30380704626441 L -2.5482083968818188,7.8303090166300535 L -1.4060447961091995,4.041237256489694 L 11.36633050441742,5.404952686280012 L 12.482126902788877,8.178443896584213 L 19.553420204669237,8.689065726473927 L 18.83465924486518,18.32051929552108 z M -12.768796097487211,8.452274976298213 L -8.72029959782958,8.426195946522057 L -8.694508794695139,12.430200156755745 L -12.743001997470856,12.456279176287353 L -12.768796097487211,8.452274976298213 z M -8.769015595316887,0.8630769560113549 L -5.820560995489359,0.510405246168375 L -5.526745095849037,3.5116405859589577 L -8.475914295762777,3.7530897865071893 L -8.769015595316887,0.8630769560113549 z M -4.526117995381355,-0.9438820034265518 L 1.3686457052826881,-1.9828856540843844 L 2.0798988044261932,1.9054777268320322 L -3.8141439966857433,3.0557028967887163 L -4.526117995381355,-0.9438820034265518 z M 11.734369102865458,-1.382260243408382 L 14.681394502520561,-1.9573644939810038 L 15.249672904610634,1.0421053459867835 L 12.30193330347538,1.5059869261458516 L 11.734369102865458,-1.382260243408382 z M -37.07074749469757,-3.73730353359133 L -34.11655619740486,-3.200213273987174 L -34.577528797090054,-0.1941138235852122 L -37.53171839565039,-0.7312038037925959 L -37.07074749469757,-3.73730353359133 z M -12.410838555544615,-13.377550918608904 L -12.963807996362448,-13.252668622881174 L -16.93940419703722,-12.559694253839552 L -17.65067420527339,-16.448054883629084 L -13.675791595131159,-17.25225214380771 L -13.191440656781197,-17.376692436635494 L -7.228039655834436,-18.41614838782698 L -5.99739920720458,-18.529630973003805 L -2.978165205568075,-18.549075523391366 L -2.95882610604167,-15.546072483062744 L -5.978058207780123,-15.526627942919731 L -6.516777455806732,-14.527786328457296 L -12.410838555544615,-13.377550918608904 z M 20.194324102252722,-19.677929633297026 L 21.92554420232773,-17.24207770358771 L 21.105695605278015,-16.680667153559625 L 19.374475304037333,-19.11651879362762 L 20.194324102252722,-19.677929633297026 z M -12.509202998131514,16.792624296620488 L -10.038938097655773,16.77671138662845 L -10.018877796828747,19.890936916694045 L -12.489141095429659,19.906849816441536 L -12.509202998131514,16.792624296620488 z M -30.331054996699095,-1.444983083754778 L -20.244102995842695,-1.5099889831617475 L -20.237653005868196,-0.5089879436418414 L -19.9631781950593,-0.5107565335929394 L -16.53224289789796,-0.5328625440597534 L -16.51146189495921,2.692585226148367 L -19.942395094782114,2.714691236615181 L -20.216869685798883,2.7164598256349564 L -20.203969694674015,4.718461886048317 L -30.290909096598625,4.783467756584287 L -30.331054996699095,-1.444983083754778 z M -42.563116297125816,-4.146799533627927 L -39.54389099776745,-4.166266613639891 L -39.52452939748764,-1.1632635639980435 L -42.543752897530794,-1.1437964932993054 L -42.563116297125816,-4.146799533627927 z M 4.055388804525137,-11.009568203240633 L 4.003828104585409,-19.01757636386901 L 10.04229660332203,-19.056452253833413 L 10.51558455452323,-17.522185122594237 L 13.51558455452323,-17.52218512352556 L 13.51558455452323,-14.52218512352556 L 13.506176505237818,-13.962310123257339 L 13.525506105273962,-10.95930703356862 L 10.506276804953814,-10.939872093498707 L 10.093847703188658,-11.04844407364726 L 4.055388804525137,-11.009568203240633 z M -8.954268086701632,-9.798623265698552 L -8.20452630519867,-8.957076374441385 L -7.947988096624613,-7.914647653698921 L -8.23512801527977,-6.7996561601758 L -8.908365525305271,-6.049914384260774 L -10.197988096624613,-5.664647653698921 L -11.524811316281557,-6.080516089685261 L -12.213349685072899,-6.845558718778193 L -12.447988096624613,-7.914647653698921 L -12.060341157019138,-9.186589162796736 L -11.356501936912537,-9.859826676547527 L -10.197988096624613,-10.164647653698921 L -8.954268086701632,-9.798623265698552 z M -24.209050428122282,-6.931294208392501 L -26.210401944816113,-10.30972245708108 L -25.457599997520447,-12.255990905687213 L -23.896913036704063,-13.41273536067456 L -21.583424124866724,-13.394374337047338 L -19.206436686217785,-10.065424509346485 L -20.02273716777563,-7.794262293726206 L -21.50998003780842,-6.80276704672724 L -24.209050428122282,-6.931294208392501 z\" /></g></svg>"
      ],
      "text/plain": [
       "<POLYGON ((18.835 18.321, 19.349 19.591, 21.888 19.574, 21.927 25.58, 21.4 2...>"
      ]
     },
     "execution_count": 45,
     "metadata": {},
     "output_type": "execute_result"
    }
   ],
   "source": [
    "import shapely\n",
    "\n",
    "geometry = shapely.from_wkt(\n",
    "    \"POLYGON ((18.83465924486518 18.32051929552108, 19.34909300506115 19.590621585957706, 21.88797490298748 19.574282886460423, 21.92662440240383 25.58028939552605, 21.399865701794624 29.031714636832476, 23.50779790431261 36.69280955661088, 23.573981944471598 45.18158556893468, 32.53619200363755 41.44733137637377, 31.20233740285039 38.089252636767924, 29.37461530417204 31.31616737600416, 29.752693705260754 26.086068406701088, 29.663249105215073 12.183275556191802, 26.770455703139305 -0.144303503446281, 51.5303654037416 -2.083181253634393, 51.54535440355539 -10.425297893583775, 25.687502205371857 -8.479356283321977, 23.082762002944946 -18.6954745631665, 20.58814410492778 -22.461137543432415, 30.01885560527444 -39.205858843401074, 20.18125330284238 -43.03550288360566, 15.357246603816748 -35.552251423709095, 15.430876795202494 -34.77413675375283, 14.570326302200556 -29.87461249344051, 11.965247824788094 -29.8633663803339, 11.188772104680538 -22.178186903707683, -9.110273897647858 -20.156618523411453, -28.026172697544098 -16.475477723404765, -31.06588539481163 -40.92581510357559, -34.83994489535689 -40.901487483642995, -31.221869096159935 -11.894575073383749, -42.19658439606428 -11.156461293809116, -43.4304156973958 -11.084705794230103, -52.46380799636245 -11.552668623626232, -53.46380799636245 -0.5526686236262321, -43.46380799636245 1.4473313689231873, -42.520086497068405 2.5265405867248774, -41.75165539607406 4.63489802647382, -18.330484494566917 7.931972056627274, -18.319018498063087 9.711529466323555, -15.985987197607756 9.6964978761971, -16.270320296287537 18.818940156139433, -18.536162197589874 18.611085096374154, -19.38412469625473 46.75696967635304, -19.463807996362448 51.44733137637377, -8.463807996362448 51.44733137637377, -9.71471018716693 45.804858786053956, -9.804981797933578 31.790843468159437, -10.293190594762564 30.57049175631255, -10.344775095582008 22.562483147718012, -7.68527864664793 20.609930960461497, -7.149235997349024 7.30380704626441, -2.5482083968818188 7.8303090166300535, -1.4060447961091995 4.041237256489694, 11.36633050441742 5.404952686280012, 12.482126902788877 8.178443896584213, 19.553420204669237 8.689065726473927, 18.83465924486518 18.32051929552108), (-12.768796097487211 8.452274976298213, -8.72029959782958 8.426195946522057, -8.694508794695139 12.430200156755745, -12.743001997470856 12.456279176287353, -12.768796097487211 8.452274976298213), (-8.769015595316887 0.8630769560113549, -5.820560995489359 0.510405246168375, -5.526745095849037 3.5116405859589577, -8.475914295762777 3.7530897865071893, -8.769015595316887 0.8630769560113549), (-4.526117995381355 -0.9438820034265518, 1.3686457052826881 -1.9828856540843844, 2.0798988044261932 1.9054777268320322, -3.8141439966857433 3.0557028967887163, -4.526117995381355 -0.9438820034265518), (11.734369102865458 -1.382260243408382, 14.681394502520561 -1.9573644939810038, 15.249672904610634 1.0421053459867835, 12.30193330347538 1.5059869261458516, 11.734369102865458 -1.382260243408382), (-37.07074749469757 -3.73730353359133, -34.11655619740486 -3.200213273987174, -34.577528797090054 -0.1941138235852122, -37.53171839565039 -0.7312038037925959, -37.07074749469757 -3.73730353359133), (-12.410838555544615 -13.377550918608904, -12.963807996362448 -13.252668622881174, -16.93940419703722 -12.559694253839552, -17.65067420527339 -16.448054883629084, -13.675791595131159 -17.25225214380771, -13.191440656781197 -17.376692436635494, -7.228039655834436 -18.41614838782698, -5.99739920720458 -18.529630973003805, -2.978165205568075 -18.549075523391366, -2.95882610604167 -15.546072483062744, -5.978058207780123 -15.526627942919731, -6.516777455806732 -14.527786328457296, -12.410838555544615 -13.377550918608904), (20.194324102252722 -19.677929633297026, 21.92554420232773 -17.24207770358771, 21.105695605278015 -16.680667153559625, 19.374475304037333 -19.11651879362762, 20.194324102252722 -19.677929633297026), (-12.509202998131514 16.792624296620488, -10.038938097655773 16.77671138662845, -10.018877796828747 19.890936916694045, -12.489141095429659 19.906849816441536, -12.509202998131514 16.792624296620488), (-30.331054996699095 -1.444983083754778, -20.244102995842695 -1.5099889831617475, -20.237653005868196 -0.5089879436418414, -19.9631781950593 -0.5107565335929394, -16.53224289789796 -0.5328625440597534, -16.51146189495921 2.692585226148367, -19.942395094782114 2.714691236615181, -20.216869685798883 2.7164598256349564, -20.203969694674015 4.718461886048317, -30.290909096598625 4.783467756584287, -30.331054996699095 -1.444983083754778), (-42.563116297125816 -4.146799533627927, -39.54389099776745 -4.166266613639891, -39.52452939748764 -1.1632635639980435, -42.543752897530794 -1.1437964932993054, -42.563116297125816 -4.146799533627927), (4.055388804525137 -11.009568203240633, 4.003828104585409 -19.01757636386901, 10.04229660332203 -19.056452253833413, 10.51558455452323 -17.522185122594237, 13.51558455452323 -17.52218512352556, 13.51558455452323 -14.52218512352556, 13.506176505237818 -13.962310123257339, 13.525506105273962 -10.95930703356862, 10.506276804953814 -10.939872093498707, 10.093847703188658 -11.04844407364726, 4.055388804525137 -11.009568203240633), (-8.954268086701632 -9.798623265698552, -8.20452630519867 -8.957076374441385, -7.947988096624613 -7.914647653698921, -8.23512801527977 -6.7996561601758, -8.908365525305271 -6.049914384260774, -10.197988096624613 -5.664647653698921, -11.524811316281557 -6.080516089685261, -12.213349685072899 -6.845558718778193, -12.447988096624613 -7.914647653698921, -12.060341157019138 -9.186589162796736, -11.356501936912537 -9.859826676547527, -10.197988096624613 -10.164647653698921, -8.954268086701632 -9.798623265698552), (-24.209050428122282 -6.931294208392501, -26.210401944816113 -10.30972245708108, -25.457599997520447 -12.255990905687213, -23.896913036704063 -13.41273536067456, -21.583424124866724 -13.394374337047338, -19.206436686217785 -10.065424509346485, -20.02273716777563 -7.794262293726206, -21.50998003780842 -6.80276704672724, -24.209050428122282 -6.931294208392501))\"\n",
    ")\n",
    "geometry"
   ]
  },
  {
   "cell_type": "code",
   "execution_count": 46,
   "metadata": {},
   "outputs": [
    {
     "data": {
      "text/plain": [
       "(-53.46380799636245, -43.03550288360566, 51.54535440355539, 51.44733137637377)"
      ]
     },
     "execution_count": 46,
     "metadata": {},
     "output_type": "execute_result"
    }
   ],
   "source": [
    "geometry.bounds"
   ]
  },
  {
   "cell_type": "code",
   "execution_count": 47,
   "metadata": {},
   "outputs": [
    {
     "data": {
      "text/plain": [
       "(0.0, 0.0, 105.00916239991784, 94.48283425997943)"
      ]
     },
     "execution_count": 47,
     "metadata": {},
     "output_type": "execute_result"
    }
   ],
   "source": [
    "xmin, ymin, xmax, ymax = geometry.bounds\n",
    "offset = (-xmin, -ymin)\n",
    "geometry = shapely.affinity.translate(geometry, offset[0], offset[1])\n",
    "geometry.bounds"
   ]
  },
  {
   "cell_type": "code",
   "execution_count": 51,
   "metadata": {},
   "outputs": [
    {
     "data": {
      "text/plain": [
       "42.731632031818975"
      ]
     },
     "execution_count": 51,
     "metadata": {},
     "output_type": "execute_result"
    }
   ],
   "source": [
    "point = shapely.Point(-4.6467332863896225, -0.30387085178668466)\n",
    "point = shapely.affinity.translate(point, offset[0], offset[1])\n",
    "point.y"
   ]
  },
  {
   "cell_type": "code",
   "execution_count": 56,
   "metadata": {},
   "outputs": [
    {
     "data": {
      "text/plain": [
       "53.46380799636245"
      ]
     },
     "execution_count": 56,
     "metadata": {},
     "output_type": "execute_result"
    }
   ],
   "source": [
    "offset[0]"
   ]
  },
  {
   "cell_type": "code",
   "execution_count": 55,
   "metadata": {},
   "outputs": [
    {
     "data": {
      "text/plain": [
       "72.0"
      ]
     },
     "execution_count": 55,
     "metadata": {},
     "output_type": "execute_result"
    }
   ],
   "source": [
    "exit_point = shapely.Point(18.536192003637552, -6.552668623626232)\n",
    "exit_point = shapely.affinity.translate(exit_point, offset[0], offset[1])\n",
    "exit_point.x"
   ]
  },
  {
   "cell_type": "code",
   "execution_count": 37,
   "metadata": {},
   "outputs": [
    {
     "data": {
      "text/plain": [
       "<shapely.geometry.polygon.InteriorRingSequence at 0x7f906755fb30>"
      ]
     },
     "execution_count": 37,
     "metadata": {},
     "output_type": "execute_result"
    }
   ],
   "source": [
    "geometry.interiors"
   ]
  },
  {
   "cell_type": "code",
   "execution_count": 38,
   "metadata": {},
   "outputs": [],
   "source": [
    "coords = geometry.exterior.coords[:]\n",
    "holes_coords = [hole.coords[:] for hole in geometry.interiors]"
   ]
  },
  {
   "cell_type": "code",
   "execution_count": 39,
   "metadata": {},
   "outputs": [],
   "source": [
    "line_segments = []"
   ]
  },
  {
   "cell_type": "code",
   "execution_count": 40,
   "metadata": {},
   "outputs": [
    {
     "data": {
      "text/plain": [
       "140"
      ]
     },
     "execution_count": 40,
     "metadata": {},
     "output_type": "execute_result"
    }
   ],
   "source": [
    "for start, end in zip(coords, coords[1:]):\n",
    "    line_segments.append((start, end))\n",
    "\n",
    "for hole_coords in holes_coords:\n",
    "    for start, end in zip(hole_coords, hole_coords[1:]):\n",
    "        line_segments.append((start, end))\n",
    "\n",
    "len(line_segments)"
   ]
  },
  {
   "cell_type": "code",
   "execution_count": 41,
   "metadata": {},
   "outputs": [
    {
     "name": "stdout",
     "output_type": "stream",
     "text": [
      "LINE GroundFloorLines[] = {\n",
      "    {72.29846724122763, 61.35602217912674, 72.8129010014236, 62.626124469563365},\n",
      "    {72.8129010014236, 62.626124469563365, 75.35178289934993, 62.60978577006608},\n",
      "    {75.35178289934993, 62.60978577006608, 75.39043239876628, 68.61579227913171},\n",
      "    {75.39043239876628, 68.61579227913171, 74.86367369815707, 72.06721752043813},\n",
      "    {74.86367369815707, 72.06721752043813, 76.97160590067506, 79.72831244021654},\n",
      "    {76.97160590067506, 79.72831244021654, 77.03778994083405, 88.21708845254034},\n",
      "    {77.03778994083405, 88.21708845254034, 86.0, 84.48283425997943},\n",
      "    {86.0, 84.48283425997943, 84.66614539921284, 81.12475552037358},\n",
      "    {84.66614539921284, 81.12475552037358, 82.83842330053449, 74.35167025960982},\n",
      "    {82.83842330053449, 74.35167025960982, 83.2165017016232, 69.12157129030675},\n",
      "    {83.2165017016232, 69.12157129030675, 83.12705710157752, 55.21877843979746},\n",
      "    {83.12705710157752, 55.21877843979746, 80.23426369950175, 42.89119938015938},\n",
      "    {80.23426369950175, 42.89119938015938, 104.99417340010405, 40.952321629971266},\n",
      "    {104.99417340010405, 40.952321629971266, 105.00916239991784, 32.610204990021884},\n",
      "    {105.00916239991784, 32.610204990021884, 79.1513102017343, 34.55614660028368},\n",
      "    {79.1513102017343, 34.55614660028368, 76.5465699993074, 24.34002832043916},\n",
      "    {76.5465699993074, 24.34002832043916, 74.05195210129023, 20.574365340173244},\n",
      "    {74.05195210129023, 20.574365340173244, 83.48266360163689, 3.8296440402045846},\n",
      "    {83.48266360163689, 3.8296440402045846, 73.64506129920483, 0.0},\n",
      "    {73.64506129920483, 0.0, 68.8210546001792, 7.4832514598965645},\n",
      "    {68.8210546001792, 7.4832514598965645, 68.89468479156494, 8.261366129852831},\n",
      "    {68.89468479156494, 8.261366129852831, 68.034134298563, 13.16089039016515},\n",
      "    {68.034134298563, 13.16089039016515, 65.42905582115054, 13.172136503271759},\n",
      "    {65.42905582115054, 13.172136503271759, 64.65258010104299, 20.857315979897976},\n",
      "    {64.65258010104299, 20.857315979897976, 44.35353409871459, 22.878884360194206},\n",
      "    {44.35353409871459, 22.878884360194206, 25.43763529881835, 26.560025160200894},\n",
      "    {25.43763529881835, 26.560025160200894, 22.397922601550817, 2.1096877800300717},\n",
      "    {22.397922601550817, 2.1096877800300717, 18.623863101005554, 2.1340153999626637},\n",
      "    {18.623863101005554, 2.1340153999626637, 22.241938900202513, 31.14092781022191},\n",
      "    {22.241938900202513, 31.14092781022191, 11.267223600298166, 31.879041589796543},\n",
      "    {11.267223600298166, 31.879041589796543, 10.033392298966646, 31.950797089375556},\n",
      "    {10.033392298966646, 31.950797089375556, 1.0, 31.482834259979427},\n",
      "    {1.0, 31.482834259979427, 0.0, 42.48283425997943},\n",
      "    {0.0, 42.48283425997943, 10.0, 44.482834252528846},\n",
      "    {10.0, 44.482834252528846, 10.943721499294043, 45.562043470330536},\n",
      "    {10.943721499294043, 45.562043470330536, 11.712152600288391, 47.67040091007948},\n",
      "    {11.712152600288391, 47.67040091007948, 35.13332350179553, 50.96747494023293},\n",
      "    {35.13332350179553, 50.96747494023293, 35.14478949829936, 52.74703234992921},\n",
      "    {35.14478949829936, 52.74703234992921, 37.47782079875469, 52.73200075980276},\n",
      "    {37.47782079875469, 52.73200075980276, 37.19348770007491, 61.85444303974509},\n",
      "    {37.19348770007491, 61.85444303974509, 34.92764579877257, 61.64658797997981},\n",
      "    {34.92764579877257, 61.64658797997981, 34.07968330010772, 89.7924725599587},\n",
      "    {34.07968330010772, 89.7924725599587, 34.0, 94.48283425997943},\n",
      "    {34.0, 94.48283425997943, 45.0, 94.48283425997943},\n",
      "    {45.0, 94.48283425997943, 43.74909780919552, 88.84036166965961},\n",
      "    {43.74909780919552, 88.84036166965961, 43.65882619842887, 74.8263463517651},\n",
      "    {43.65882619842887, 74.8263463517651, 43.170617401599884, 73.60599463991821},\n",
      "    {43.170617401599884, 73.60599463991821, 43.11903290078044, 65.59798603132367},\n",
      "    {43.11903290078044, 65.59798603132367, 45.77852934971452, 63.645433844067156},\n",
      "    {45.77852934971452, 63.645433844067156, 46.314571999013424, 50.33930992987007},\n",
      "    {46.314571999013424, 50.33930992987007, 50.91559959948063, 50.86581190023571},\n",
      "    {50.91559959948063, 50.86581190023571, 52.05776320025325, 47.07674014009535},\n",
      "    {52.05776320025325, 47.07674014009535, 64.83013850077987, 48.44045556988567},\n",
      "    {64.83013850077987, 48.44045556988567, 65.94593489915133, 51.21394678018987},\n",
      "    {65.94593489915133, 51.21394678018987, 73.01722820103168, 51.72456861007959},\n",
      "    {73.01722820103168, 51.72456861007959, 72.29846724122763, 61.35602217912674},\n",
      "    {40.69501189887524, 51.48777785990387, 44.74350839853287, 51.461698830127716},\n",
      "    {44.74350839853287, 51.461698830127716, 44.76929920166731, 55.465703040361404},\n",
      "    {44.76929920166731, 55.465703040361404, 40.72080599889159, 55.49178205989301},\n",
      "    {40.72080599889159, 55.49178205989301, 40.69501189887524, 51.48777785990387},\n",
      "    {44.69479240104556, 43.898579839617014, 47.64324700087309, 43.545908129774034},\n",
      "    {47.64324700087309, 43.545908129774034, 47.93706290051341, 46.54714346956462},\n",
      "    {47.93706290051341, 46.54714346956462, 44.98789370059967, 46.78859267011285},\n",
      "    {44.98789370059967, 46.78859267011285, 44.69479240104556, 43.898579839617014},\n",
      "    {48.93769000098109, 42.09162088017911, 54.832453701645136, 41.052617229521275},\n",
      "    {54.832453701645136, 41.052617229521275, 55.54370680078864, 44.94098061043769},\n",
      "    {55.54370680078864, 44.94098061043769, 49.649663999676704, 46.091205780394375},\n",
      "    {49.649663999676704, 46.091205780394375, 48.93769000098109, 42.09162088017911},\n",
      "    {65.1981770992279, 41.65324264019728, 68.14520249888301, 41.078138389624655},\n",
      "    {68.14520249888301, 41.078138389624655, 68.71348090097308, 44.07760822959244},\n",
      "    {68.71348090097308, 44.07760822959244, 65.76574129983783, 44.54148980975151},\n",
      "    {65.76574129983783, 44.54148980975151, 65.1981770992279, 41.65324264019728},\n",
      "    {16.393060501664877, 39.29819935001433, 19.347251798957586, 39.835289609618485},\n",
      "    {19.347251798957586, 39.835289609618485, 18.886279199272394, 42.84138906002045},\n",
      "    {18.886279199272394, 42.84138906002045, 15.932089600712061, 42.30429907981306},\n",
      "    {15.932089600712061, 42.30429907981306, 16.393060501664877, 39.29819935001433},\n",
      "    {41.05296944081783, 29.657951964996755, 40.5, 29.782834260724485},\n",
      "    {40.5, 29.782834260724485, 36.52440379932523, 30.475808629766107},\n",
      "    {36.52440379932523, 30.475808629766107, 35.81313379108906, 26.587447999976575},\n",
      "    {35.81313379108906, 26.587447999976575, 39.78801640123129, 25.78325073979795},\n",
      "    {39.78801640123129, 25.78325073979795, 40.27236733958125, 25.658810446970165},\n",
      "    {40.27236733958125, 25.658810446970165, 46.23576834052801, 24.61935449577868},\n",
      "    {46.23576834052801, 24.61935449577868, 47.46640878915787, 24.505871910601854},\n",
      "    {47.46640878915787, 24.505871910601854, 50.48564279079437, 24.486427360214293},\n",
      "    {50.48564279079437, 24.486427360214293, 50.50498189032078, 27.489430400542915},\n",
      "    {50.50498189032078, 27.489430400542915, 47.485749788582325, 27.508874940685928},\n",
      "    {47.485749788582325, 27.508874940685928, 46.947030540555716, 28.507716555148363},\n",
      "    {46.947030540555716, 28.507716555148363, 41.05296944081783, 29.657951964996755},\n",
      "    {73.65813209861517, 23.357573250308633, 75.38935219869018, 25.793425180017948},\n",
      "    {75.38935219869018, 25.793425180017948, 74.56950360164046, 26.354835730046034},\n",
      "    {74.56950360164046, 26.354835730046034, 72.83828330039978, 23.91898408997804},\n",
      "    {72.83828330039978, 23.91898408997804, 73.65813209861517, 23.357573250308633},\n",
      "    {40.954604998230934, 59.82812718022615, 43.424869898706675, 59.81221427023411},\n",
      "    {43.424869898706675, 59.81221427023411, 43.4449301995337, 62.926439800299704},\n",
      "    {43.4449301995337, 62.926439800299704, 40.97466690093279, 62.942352700047195},\n",
      "    {40.97466690093279, 62.942352700047195, 40.954604998230934, 59.82812718022615},\n",
      "    {23.132752999663353, 41.59051979985088, 33.21970500051975, 41.52551390044391},\n",
      "    {33.21970500051975, 41.52551390044391, 33.22615499049425, 42.52651493996382},\n",
      "    {33.22615499049425, 42.52651493996382, 33.50062980130315, 42.52474635001272},\n",
      "    {33.50062980130315, 42.52474635001272, 36.93156509846449, 42.502640339545906},\n",
      "    {36.93156509846449, 42.502640339545906, 36.952346101403236, 45.728088109754026},\n",
      "    {36.952346101403236, 45.728088109754026, 33.521412901580334, 45.75019412022084},\n",
      "    {33.521412901580334, 45.75019412022084, 33.246938310563564, 45.751962709240615},\n",
      "    {33.246938310563564, 45.751962709240615, 33.25983830168843, 47.753964769653976},\n",
      "    {33.25983830168843, 47.753964769653976, 23.172898899763823, 47.818970640189946},\n",
      "    {23.172898899763823, 47.818970640189946, 23.132752999663353, 41.59051979985088},\n",
      "    {10.900691699236631, 38.88870334997773, 13.919916998595, 38.86923626996577},\n",
      "    {13.919916998595, 38.86923626996577, 13.939278598874807, 41.872239319607615},\n",
      "    {13.939278598874807, 41.872239319607615, 10.920055098831654, 41.891706390306354},\n",
      "    {10.920055098831654, 41.891706390306354, 10.900691699236631, 38.88870334997773},\n",
      "    {57.519196800887585, 32.025934680365026, 57.46763610094786, 24.017926519736648},\n",
      "    {57.46763610094786, 24.017926519736648, 63.50610459968448, 23.979050629772246},\n",
      "    {63.50610459968448, 23.979050629772246, 63.97939255088568, 25.51331776101142},\n",
      "    {63.97939255088568, 25.51331776101142, 66.97939255088568, 25.5133177600801},\n",
      "    {66.97939255088568, 25.5133177600801, 66.97939255088568, 28.5133177600801},\n",
      "    {66.97939255088568, 28.5133177600801, 66.96998450160027, 29.07319276034832},\n",
      "    {66.96998450160027, 29.07319276034832, 66.98931410163641, 32.07619585003704},\n",
      "    {66.98931410163641, 32.07619585003704, 63.97008480131626, 32.09563079010695},\n",
      "    {63.97008480131626, 32.09563079010695, 63.557655699551105, 31.9870588099584},\n",
      "    {63.557655699551105, 31.9870588099584, 57.519196800887585, 32.025934680365026},\n",
      "    {44.509539909660816, 33.23687961790711, 45.25928169116378, 34.078426509164274},\n",
      "    {45.25928169116378, 34.078426509164274, 45.515819899737835, 35.12085522990674},\n",
      "    {45.515819899737835, 35.12085522990674, 45.22867998108268, 36.23584672342986},\n",
      "    {45.22867998108268, 36.23584672342986, 44.55544247105718, 36.985588499344885},\n",
      "    {44.55544247105718, 36.985588499344885, 43.265819899737835, 37.37085522990674},\n",
      "    {43.265819899737835, 37.37085522990674, 41.93899668008089, 36.9549867939204},\n",
      "    {41.93899668008089, 36.9549867939204, 41.25045831128955, 36.189944164827466},\n",
      "    {41.25045831128955, 36.189944164827466, 41.015819899737835, 35.12085522990674},\n",
      "    {41.015819899737835, 35.12085522990674, 41.40346683934331, 33.84891372080892},\n",
      "    {41.40346683934331, 33.84891372080892, 42.10730605944991, 33.17567620705813},\n",
      "    {42.10730605944991, 33.17567620705813, 43.265819899737835, 32.87085522990674},\n",
      "    {43.265819899737835, 32.87085522990674, 44.509539909660816, 33.23687961790711},\n",
      "    {29.254757568240166, 36.10420867521316, 27.253406051546335, 32.72578042652458},\n",
      "    {27.253406051546335, 32.72578042652458, 28.006207998842, 30.779511977918446},\n",
      "    {28.006207998842, 30.779511977918446, 29.566894959658384, 29.6227675229311},\n",
      "    {29.566894959658384, 29.6227675229311, 31.880383871495724, 29.64112854655832},\n",
      "    {31.880383871495724, 29.64112854655832, 34.25737131014466, 32.970078374259174},\n",
      "    {34.25737131014466, 32.970078374259174, 33.44107082858682, 35.24124058987945},\n",
      "    {33.44107082858682, 35.24124058987945, 31.95382795855403, 36.23273583687842},\n",
      "    {31.95382795855403, 36.23273583687842, 29.254757568240166, 36.10420867521316}\n",
      "};\n"
     ]
    }
   ],
   "source": [
    "# LINE GroundFloorLines[] = {\n",
    "#     {10.0f, 10.0f, 14.0f, 10.0f},\n",
    "#     {16.0f, 10.0f, 20.0f, 10.0f}, //{x1,y1,x2,y2} wall-by-wall on plan...\n",
    "#     {20.0f, 10.0f, 20.0f, 15.0f},\n",
    "#     {20.0f, 15.0f, 10.0f, 15.0f},\n",
    "#     {10.0f, 15.0f, 10.0f, 10.0f}};\n",
    "\n",
    "print(f\"LINE GroundFloorLines[] = {{\")\n",
    "\n",
    "for line in line_segments[:-1]:\n",
    "    print(f\"    {{{line[0][0]}, {line[0][1]}, {line[1][0]}, {line[1][1]}}},\")\n",
    "print(\n",
    "    f\"    {{{line_segments[-1][0][0]}, {line_segments[-1][0][1]}, {line_segments[-1][1][0]}, {line_segments[-1][1][1]}}}\"\n",
    ")\n",
    "print(\"};\")\n",
    "# print(\"test\")\n",
    "\n",
    "# for line_segment in line_segments:"
   ]
  },
  {
   "cell_type": "code",
   "execution_count": 16,
   "metadata": {},
   "outputs": [
    {
     "data": {
      "text/plain": [
       "(-21.50998003780842, -6.80276704672724)"
      ]
     },
     "execution_count": 16,
     "metadata": {},
     "output_type": "execute_result"
    }
   ],
   "source": [
    "line_segments[-1][0]"
   ]
  },
  {
   "cell_type": "code",
   "execution_count": 57,
   "metadata": {},
   "outputs": [
    {
     "data": {
      "text/plain": [
       "140"
      ]
     },
     "execution_count": 57,
     "metadata": {},
     "output_type": "execute_result"
    }
   ],
   "source": [
    "len(line_segments)"
   ]
  }
 ],
 "metadata": {
  "kernelspec": {
   "display_name": "jupedsim-venv",
   "language": "python",
   "name": "python3"
  },
  "language_info": {
   "codemirror_mode": {
    "name": "ipython",
    "version": 3
   },
   "file_extension": ".py",
   "mimetype": "text/x-python",
   "name": "python",
   "nbconvert_exporter": "python",
   "pygments_lexer": "ipython3",
   "version": "3.12.2"
  }
 },
 "nbformat": 4,
 "nbformat_minor": 2
}
